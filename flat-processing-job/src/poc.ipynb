{
 "cells": [
  {
   "cell_type": "code",
   "execution_count": 1,
   "metadata": {},
   "outputs": [
    {
     "ename": "AssertionError",
     "evalue": "No .env file found, have you copied .env.tmpl to .env?",
     "output_type": "error",
     "traceback": [
      "\u001b[0;31m---------------------------------------------------------------------------\u001b[0m",
      "\u001b[0;31mAssertionError\u001b[0m                            Traceback (most recent call last)",
      "Cell \u001b[0;32mIn[1], line 2\u001b[0m\n\u001b[1;32m      1\u001b[0m \u001b[38;5;28;01mimport\u001b[39;00m\u001b[38;5;250m \u001b[39m\u001b[38;5;21;01mpandas\u001b[39;00m\u001b[38;5;250m \u001b[39m\u001b[38;5;28;01mas\u001b[39;00m\u001b[38;5;250m \u001b[39m\u001b[38;5;21;01mpd\u001b[39;00m\n\u001b[0;32m----> 2\u001b[0m \u001b[38;5;28;01mfrom\u001b[39;00m\u001b[38;5;250m \u001b[39m\u001b[38;5;21;01mflat_processing_job\u001b[39;00m\u001b[38;5;21;01m.\u001b[39;00m\u001b[38;5;21;01mdatabase\u001b[39;00m\u001b[38;5;21;01m.\u001b[39;00m\u001b[38;5;21;01mconnection\u001b[39;00m\u001b[38;5;250m \u001b[39m\u001b[38;5;28;01mimport\u001b[39;00m get_engine_and_session\n\u001b[1;32m      4\u001b[0m engine, session \u001b[38;5;241m=\u001b[39m get_engine_and_session()\n",
      "File \u001b[0;32m~/Desktop/ProjectHub/lithuanian-real-estate/flat-processing-job/src/flat_processing_job/__init__.py:14\u001b[0m\n\u001b[1;32m     11\u001b[0m \u001b[38;5;28;01mtry\u001b[39;00m:\n\u001b[1;32m     12\u001b[0m     \u001b[38;5;28;01mfrom\u001b[39;00m\u001b[38;5;250m \u001b[39m\u001b[38;5;21;01mdotenv\u001b[39;00m\u001b[38;5;250m \u001b[39m\u001b[38;5;28;01mimport\u001b[39;00m load_dotenv\n\u001b[0;32m---> 14\u001b[0m     \u001b[38;5;28;01massert\u001b[39;00m load_dotenv(), \u001b[38;5;124m\"\u001b[39m\u001b[38;5;124mNo .env file found, have you copied .env.tmpl to .env?\u001b[39m\u001b[38;5;124m\"\u001b[39m\n\u001b[1;32m     15\u001b[0m     LOGGER\u001b[38;5;241m.\u001b[39minfo(\u001b[38;5;124m\"\u001b[39m\u001b[38;5;124mLoaded .env file.\u001b[39m\u001b[38;5;124m\"\u001b[39m)\n\u001b[1;32m     16\u001b[0m \u001b[38;5;28;01mexcept\u001b[39;00m \u001b[38;5;167;01mImportError\u001b[39;00m:\n",
      "\u001b[0;31mAssertionError\u001b[0m: No .env file found, have you copied .env.tmpl to .env?"
     ]
    }
   ],
   "source": [
    "import pandas as pd\n",
    "from flat_processing_job.database.connection import get_engine_and_session\n",
    "\n",
    "engine, session = get_engine_and_session()"
   ]
  },
  {
   "cell_type": "code",
   "execution_count": 2,
   "metadata": {},
   "outputs": [],
   "source": [
    "# Load the data\n",
    "data = pd.read_sql_table(\"partially_parsed_flats\", engine)"
   ]
  },
  {
   "cell_type": "code",
   "execution_count": null,
   "metadata": {},
   "outputs": [],
   "source": [
    "data.columns"
   ]
  },
  {
   "cell_type": "code",
   "execution_count": 4,
   "metadata": {},
   "outputs": [],
   "source": [
    "data = data.drop_duplicates(subset=[\"description\"])"
   ]
  },
  {
   "cell_type": "code",
   "execution_count": 5,
   "metadata": {},
   "outputs": [],
   "source": [
    "data[\"price\"] = data[\"price\"].apply(lambda x: x.replace(\"€\", \"\").replace(\" \", \"\")).astype(int)"
   ]
  },
  {
   "cell_type": "code",
   "execution_count": 6,
   "metadata": {},
   "outputs": [],
   "source": [
    "data[\"area\"] = data[\"area\"].apply(lambda x: x.replace(\"m²\", \"\").replace(\",\", \".\")).astype(float)"
   ]
  },
  {
   "cell_type": "code",
   "execution_count": 7,
   "metadata": {},
   "outputs": [],
   "source": [
    "# disable max cols\n",
    "pd.set_option(\"display.max_columns\", None)"
   ]
  },
  {
   "cell_type": "code",
   "execution_count": null,
   "metadata": {},
   "outputs": [],
   "source": [
    "data.head()"
   ]
  },
  {
   "cell_type": "code",
   "execution_count": 9,
   "metadata": {},
   "outputs": [],
   "source": [
    "data[[\"room_count\", \"floor\", \"total_floors\"]] = data[[\"room_count\", \"floor\", \"total_floors\"]].astype(int)"
   ]
  },
  {
   "cell_type": "code",
   "execution_count": null,
   "metadata": {},
   "outputs": [],
   "source": [
    "data.dtypes"
   ]
  },
  {
   "cell_type": "code",
   "execution_count": null,
   "metadata": {},
   "outputs": [],
   "source": [
    "data.head()"
   ]
  },
  {
   "cell_type": "code",
   "execution_count": 12,
   "metadata": {},
   "outputs": [],
   "source": [
    "data[\"energy_class\"] = data[\"energy_class\"].fillna(\"Unknown\")\n",
    "data[[\"features\", \"additional_rooms\", \"additional_equipment\", \"security\"]] = data[[\"features\", \"additional_rooms\", \"additional_equipment\", \"security\"]].fillna(\"None\")\n"
   ]
  },
  {
   "cell_type": "code",
   "execution_count": 13,
   "metadata": {},
   "outputs": [],
   "source": [
    "list_cols = [\"features\", \"additional_rooms\", \"additional_equipment\", \"security\"]\n",
    "for col in list_cols:\n",
    "    data[col] = data[col].apply(lambda x: x.split(\"\\n\"))\n"
   ]
  },
  {
   "cell_type": "code",
   "execution_count": 14,
   "metadata": {},
   "outputs": [],
   "source": [
    "for col in list_cols:\n",
    "    data[col] = data[col].apply(lambda x: [y.strip() for y in x])"
   ]
  },
  {
   "cell_type": "code",
   "execution_count": 16,
   "metadata": {},
   "outputs": [],
   "source": [
    "features = {\n",
    "    \"separate_entrance\": \"Atskiras įėjimas\",\n",
    "    \"high_ceilings\": \"Aukštos lubos\",\n",
    "    \"attic_apartment\": \"Butas palėpėje\",\n",
    "    \"multi_floor_apartment\": \"Butas per kelis aukštus\",\n",
    "    \"address_registration\": \"Galima deklaruoti gyvenamąją vietą\",\n",
    "    \"pet_friendly\": \"Galima su gyvūnais\",\n",
    "    \"internet\": \"Internetas\",\n",
    "    \"cable_tv\": \"Kabelinė televizija\",\n",
    "    \"flexible_rent_for_ukrainians\": \"Lankstesnės nuomos sąlygos ukrainiečiams (dėl nuomos laikotarpio, kainos ar kt.). Daugiau informacijos – skelbime nurodytais kontaktais. / Більш гнучкі умови оренди для українців (за рахунок терміну оренди, цін тощо). Більше інформації за контактами, вказаними в оголошенні.\",\n",
    "    \"new_electrical_wiring\": \"Nauja elektros instaliacija\",\n",
    "    \"new_sewage_system\": \"Nauja kanalizacija\",\n",
    "    \"separate_wc_and_bathroom\": \"Tualetas ir vonia atskirai\",\n",
    "    \"gated_yard\": \"Uždaras kiemas\",\n",
    "    \"kitchen_living_room\": \"Virtuvė sujungta su kambariu\",\n",
    "    \"elevator\": \"Yra liftas\",\n",
    "    \"help_for_ukrainians\": \"Допомога українцям\",\n",
    "}\n",
    "\n",
    "additional_rooms = {\n",
    "    \"balcony\": \"Balkonas\",\n",
    "    \"walk_in_closet\": \"Drabužinė\",\n",
    "    \"sauna\": \"Pirtis\",\n",
    "    \"basement\": \"Rūsys\",\n",
    "    \"storage_room\": \"Sandėliukas\",\n",
    "    \"terrace\": \"Terasa\",\n",
    "    \"parking_space\": \"Vieta automobiliui\",\n",
    "    \"attic\": \"Yra palėpė\",\n",
    "}\n",
    "\n",
    "\n",
    "additional_equipment = {\n",
    "    \"shower_cabin\": \"Dušo kabina\",\n",
    "    \"dishwasher\": \"Indaplovė\",\n",
    "    \"air_conditioner\": \"Kondicionierius\",\n",
    "    \"plastic_pipes\": \"Plastikiniai vamzdžiai\",\n",
    "    \"ventilation_system\": \"Rekuperacinė sistema\",\n",
    "    \"washing_machine\": \"Skalbimo mašina\",\n",
    "    \"furnished\": \"Su baldais\",\n",
    "    \"kitchen_set\": \"Virtuvės komplektas\",\n",
    "    \"stove\": \"Viryklė\",\n",
    "    \"bathtub\": \"Vonia\",\n",
    "    \"refrigerator\": \"Šaldytuvas\",\n",
    "    \"heated_floors\": \"Šildomos grindys\",\n",
    "    \"fireplace\": \"Židinys\",\n",
    "}\n",
    "\n",
    "security = {\n",
    "    \"security_guard\": \"Budintis sargas\",\n",
    "    \"coded_staircase_lock\": \"Kodinė laiptinės spyna\",\n",
    "    \"alarm_system\": \"Signalizacija\",\n",
    "    \"cctv\": \"Vaizdo kameros\",\n",
    "    \"reinforced_door\": \"Šarvuotos durys\",\n",
    "}\n"
   ]
  },
  {
   "cell_type": "code",
   "execution_count": 19,
   "metadata": {},
   "outputs": [],
   "source": [
    "property_features = {\n",
    "    \"features\": {\n",
    "        \"separate_entrance\": \"Atskiras įėjimas\",\n",
    "        \"high_ceilings\": \"Aukštos lubos\",\n",
    "        \"attic_apartment\": \"Butas palėpėje\",\n",
    "        \"multi_floor_apartment\": \"Butas per kelis aukštus\",\n",
    "        \"address_registration\": \"Galima deklaruoti gyvenamąją vietą\",\n",
    "        \"pet_friendly\": \"Galima su gyvūnais\",\n",
    "        \"internet\": \"Internetas\",\n",
    "        \"cable_tv\": \"Kabelinė televizija\",\n",
    "        \"flexible_rent_for_ukrainians\": \"Lankstesnės nuomos sąlygos ukrainiečiams (dėl nuomos laikotarpio, kainos ar kt.). Daugiau informacijos – skelbime nurodytais kontaktais. / Більш гнучкі умови оренди для українців (за рахунок терміну оренди, цін тощо). Більше інформації за контактами, вказаними в оголошенні.\",\n",
    "        \"new_electrical_wiring\": \"Nauja elektros instaliacija\",\n",
    "        \"new_sewage_system\": \"Nauja kanalizacija\",\n",
    "        \"separate_wc_and_bathroom\": \"Tualetas ir vonia atskirai\",\n",
    "        \"gated_yard\": \"Uždaras kiemas\",\n",
    "        \"kitchen_living_room\": \"Virtuvė sujungta su kambariu\",\n",
    "        \"elevator\": \"Yra liftas\",\n",
    "        \"help_for_ukrainians\": \"Допомога українцям\",\n",
    "    },\n",
    "    \"additional_rooms\": {\n",
    "        \"balcony\": \"Balkonas\",\n",
    "        \"walk_in_closet\": \"Drabužinė\",\n",
    "        \"sauna\": \"Pirtis\",\n",
    "        \"basement\": \"Rūsys\",\n",
    "        \"storage_room\": \"Sandėliukas\",\n",
    "        \"terrace\": \"Terasa\",\n",
    "        \"parking_space\": \"Vieta automobiliui\",\n",
    "        \"attic\": \"Yra palėpė\",\n",
    "    },\n",
    "    \"additional_equipment\": {\n",
    "        \"shower_cabin\": \"Dušo kabina\",\n",
    "        \"dishwasher\": \"Indaplovė\",\n",
    "        \"air_conditioner\": \"Kondicionierius\",\n",
    "        \"plastic_pipes\": \"Plastikiniai vamzdžiai\",\n",
    "        \"ventilation_system\": \"Rekuperacinė sistema\",\n",
    "        \"washing_machine\": \"Skalbimo mašina\",\n",
    "        \"furnished\": \"Su baldais\",\n",
    "        \"kitchen_set\": \"Virtuvės komplektas\",\n",
    "        \"stove\": \"Viryklė\",\n",
    "        \"bathtub\": \"Vonia\",\n",
    "        \"refrigerator\": \"Šaldytuvas\",\n",
    "        \"heated_floors\": \"Šildomos grindys\",\n",
    "        \"fireplace\": \"Židinys\",\n",
    "    },\n",
    "    \"security\": {\n",
    "        \"security_guard\": \"Budintis sargas\",\n",
    "        \"coded_staircase_lock\": \"Kodinė laiptinės spyna\",\n",
    "        \"alarm_system\": \"Signalizacija\",\n",
    "        \"cctv\": \"Vaizdo kameros\",\n",
    "        \"reinforced_door\": \"Šarvuotos durys\",\n",
    "    },\n",
    "}\n",
    "\n",
    "\n",
    "for col, values in property_features.items():\n",
    "    for feature, value in values.items():\n",
    "        data[feature] = data[col].apply(lambda x: feature in x)  # noqa: B023"
   ]
  },
  {
   "cell_type": "code",
   "execution_count": 20,
   "metadata": {},
   "outputs": [],
   "source": [
    "data[[\"latitude\", \"longitude\"]] = data[\"coordinates\"].apply(pd.Series).astype(float)"
   ]
  },
  {
   "cell_type": "code",
   "execution_count": null,
   "metadata": {},
   "outputs": [],
   "source": [
    "data[[\"latitude\", \"longitude\"]]"
   ]
  },
  {
   "cell_type": "code",
   "execution_count": null,
   "metadata": {},
   "outputs": [],
   "source": [
    "list(property_features.keys())"
   ]
  },
  {
   "cell_type": "code",
   "execution_count": 23,
   "metadata": {},
   "outputs": [],
   "source": [
    "data = data.drop(list(property_features.keys()), axis=1)\n",
    "data = data.drop(\"coordinates\", axis=1)\n",
    "data = data.drop(\"images\", axis=1)\n",
    "data = data.drop([\"nearest_kindergarten\", \"nearest_school\", \"nearest_store\"], axis=1)\n"
   ]
  },
  {
   "cell_type": "code",
   "execution_count": null,
   "metadata": {},
   "outputs": [],
   "source": [
    "data"
   ]
  },
  {
   "cell_type": "code",
   "execution_count": 28,
   "metadata": {},
   "outputs": [],
   "source": [
    "data.isna().sum().to_clipboard()"
   ]
  },
  {
   "cell_type": "code",
   "execution_count": null,
   "metadata": {},
   "outputs": [],
   "source": [
    "def extract_renovation_year(year_str: str) -> int | None:\n",
    "\tif \"renovacija\" not in year_str.lower():\n",
    "\t\treturn None\n",
    "\treturn year_str.split(\",\")[-1][:4]\n",
    "\n",
    "def extract_construction_year(year_str: str) -> int | None:\n",
    "\tif \"statyba\" in year_str.lower():\n",
    "\t\treturn int(year_str[:4])\n",
    "\treturn int(year_str)\n",
    "\n",
    "data[\"construction_year\"] = data[\"year\"].apply(extract_construction_year)\n",
    "data[\"renovation_year\"] = data[\"year\"].apply(extract_renovation_year)"
   ]
  },
  {
   "cell_type": "code",
   "execution_count": null,
   "metadata": {},
   "outputs": [],
   "source": [
    "data"
   ]
  },
  {
   "cell_type": "code",
   "execution_count": null,
   "metadata": {},
   "outputs": [],
   "source": []
  }
 ],
 "metadata": {
  "kernelspec": {
   "display_name": ".venv",
   "language": "python",
   "name": "python3"
  },
  "language_info": {
   "codemirror_mode": {
    "name": "ipython",
    "version": 3
   },
   "file_extension": ".py",
   "mimetype": "text/x-python",
   "name": "python",
   "nbconvert_exporter": "python",
   "pygments_lexer": "ipython3",
   "version": "3.11.11"
  }
 },
 "nbformat": 4,
 "nbformat_minor": 2
}
